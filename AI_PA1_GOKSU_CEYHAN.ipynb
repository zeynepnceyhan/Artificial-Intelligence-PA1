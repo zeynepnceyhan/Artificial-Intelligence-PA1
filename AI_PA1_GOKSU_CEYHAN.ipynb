{
 "cells": [
  {
   "cell_type": "markdown",
   "metadata": {},
   "source": [
    "# AI PA1: NQueens\n",
    "**Group members:**\n",
    "Burak Göksu 190315029\n",
    "Zeynep Naz Ceyhan 210315003\n",
    "\n",
    "**Readme**\n",
    "\n",
    "The code appears to be written in Python 3, given the use of parentheses with the print function and the input function.\n",
    "\n",
    "## Part 1: Class definition"
   ]
  },
  {
   "cell_type": "code",
   "execution_count": null,
   "metadata": {},
   "outputs": [],
   "source": [
    "import random\n",
    "import math\n",
    "\n",
    "class NQueens():\n",
    "\n",
    "    def __init__(self, N):\n",
    "        self.N = N\n",
    "        self.state = \"\"\n",
    "        self._set_state()\n",
    "\n",
    "   \n",
    "    def __str__(self):\n",
    "        return f\"Representation of NQueens Problem:\\nN = {self.N}\\nState = {self.state}\"\n",
    "\n",
    "    def _set_state(self):\n",
    "        while True:\n",
    "            user_input = input(\"Enter the state manually or press 'r' to generate a random state: \").strip()\n",
    "            if user_input.lower() == 'r':\n",
    "                self.state = self.generate_random_state()\n",
    "            else:\n",
    "                if self._is_valid(user_input):\n",
    "                    self.state = user_input\n",
    "                else:\n",
    "                    print(\"Invalid state. Please try again.\")\n",
    "                    continue\n",
    "            break\n",
    "        \n",
    "    def generate_random_state(self):\n",
    "        random_state = ''.join(random.sample([str(i) for i in range(1, self.N + 1)], self.N))\n",
    "        return random_state   \n",
    "\n",
    "    def _is_valid(self, state):\n",
    "        if not state.isdigit() or len(state) != self.N:\n",
    "            return False\n",
    "        for char in state:\n",
    "            if int(char) < 1 or int(char) > self.N:\n",
    "                return False\n",
    "        return True\n",
    "\n",
    "    def _count_attacking_pairs(self, state):\n",
    "\n",
    "        def is_attacking(i, j):\n",
    "            return state[i] == state[j] or abs(int(state[i]) - int(state[j])) == abs(i - j)\n",
    "\n",
    "        count = 0\n",
    "        for i in range(self.N):\n",
    "            for j in range(i + 1, self.N):\n",
    "                if is_attacking(i, j):\n",
    "                    count += 1\n",
    "        return \"Count Attacking Pairs : \" + str(count)"
   ]
  },
  {
   "cell_type": "markdown",
   "metadata": {},
   "source": [
    "## Part 2: Testing\n",
    "\n",
    "Do not change this part. This is the test code."
   ]
  },
  {
   "cell_type": "code",
   "execution_count": null,
   "metadata": {},
   "outputs": [],
   "source": [
    "problem = NQueens(7)\n",
    "print(problem) \n",
    "print(problem._count_attacking_pairs(problem.state))"
   ]
  },
  {
   "cell_type": "code",
   "execution_count": null,
   "metadata": {},
   "outputs": [],
   "source": []
  }
 ],
 "metadata": {
  "interpreter": {
   "hash": "e922dd073470bdcc017ae3abd31d6491d6ed7bf31c1d559806e5511bfea88b81"
  },
  "kernelspec": {
   "display_name": "Python 3 (ipykernel)",
   "language": "python",
   "name": "python3"
  },
  "language_info": {
   "codemirror_mode": {
    "name": "ipython",
    "version": 3
   },
   "file_extension": ".py",
   "mimetype": "text/x-python",
   "name": "python",
   "nbconvert_exporter": "python",
   "pygments_lexer": "ipython3",
   "version": "3.10.9"
  }
 },
 "nbformat": 4,
 "nbformat_minor": 2
}
